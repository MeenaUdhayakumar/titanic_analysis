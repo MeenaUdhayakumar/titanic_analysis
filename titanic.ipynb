{
 "cells": [
  {
   "cell_type": "markdown",
   "id": "87f92ede",
   "metadata": {},
   "source": [
    "**TASK 2** Titanic analysis"
   ]
  },
  {
   "cell_type": "markdown",
   "id": "17ac261c",
   "metadata": {},
   "source": [
    "Load the dataset"
   ]
  },
  {
   "cell_type": "code",
   "execution_count": 1,
   "id": "6e9d317a",
   "metadata": {},
   "outputs": [
    {
     "data": {
      "text/html": [
       "<div>\n",
       "<style scoped>\n",
       "    .dataframe tbody tr th:only-of-type {\n",
       "        vertical-align: middle;\n",
       "    }\n",
       "\n",
       "    .dataframe tbody tr th {\n",
       "        vertical-align: top;\n",
       "    }\n",
       "\n",
       "    .dataframe thead th {\n",
       "        text-align: right;\n",
       "    }\n",
       "</style>\n",
       "<table border=\"1\" class=\"dataframe\">\n",
       "  <thead>\n",
       "    <tr style=\"text-align: right;\">\n",
       "      <th></th>\n",
       "      <th>pclass</th>\n",
       "      <th>survived</th>\n",
       "      <th>name</th>\n",
       "      <th>gender</th>\n",
       "      <th>age</th>\n",
       "      <th>siblings/spouse abroad</th>\n",
       "      <th>parents/children abroad</th>\n",
       "      <th>ticket</th>\n",
       "      <th>fare</th>\n",
       "      <th>cabin</th>\n",
       "      <th>embarked</th>\n",
       "      <th>Unnamed: 11</th>\n",
       "      <th>Unnamed: 12</th>\n",
       "      <th>Unnamed: 13</th>\n",
       "    </tr>\n",
       "  </thead>\n",
       "  <tbody>\n",
       "    <tr>\n",
       "      <th>0</th>\n",
       "      <td>1.0</td>\n",
       "      <td>1.0</td>\n",
       "      <td>Allen, Miss. Elisabeth Walton</td>\n",
       "      <td>female</td>\n",
       "      <td>29.0000</td>\n",
       "      <td>0.0</td>\n",
       "      <td>0.0</td>\n",
       "      <td>24160</td>\n",
       "      <td>211.3375</td>\n",
       "      <td>B5</td>\n",
       "      <td>S</td>\n",
       "      <td>NaN</td>\n",
       "      <td>NaN</td>\n",
       "      <td>NaN</td>\n",
       "    </tr>\n",
       "    <tr>\n",
       "      <th>1</th>\n",
       "      <td>1.0</td>\n",
       "      <td>1.0</td>\n",
       "      <td>Allison, Master. Hudson Trevor</td>\n",
       "      <td>male</td>\n",
       "      <td>0.9167</td>\n",
       "      <td>1.0</td>\n",
       "      <td>2.0</td>\n",
       "      <td>113781</td>\n",
       "      <td>151.5500</td>\n",
       "      <td>C22 C26</td>\n",
       "      <td>S</td>\n",
       "      <td>NaN</td>\n",
       "      <td>NaN</td>\n",
       "      <td>NaN</td>\n",
       "    </tr>\n",
       "    <tr>\n",
       "      <th>2</th>\n",
       "      <td>1.0</td>\n",
       "      <td>0.0</td>\n",
       "      <td>Allison, Miss. Helen Loraine</td>\n",
       "      <td>female</td>\n",
       "      <td>2.0000</td>\n",
       "      <td>1.0</td>\n",
       "      <td>2.0</td>\n",
       "      <td>113781</td>\n",
       "      <td>151.5500</td>\n",
       "      <td>C22 C26</td>\n",
       "      <td>S</td>\n",
       "      <td>NaN</td>\n",
       "      <td>NaN</td>\n",
       "      <td>NaN</td>\n",
       "    </tr>\n",
       "    <tr>\n",
       "      <th>3</th>\n",
       "      <td>1.0</td>\n",
       "      <td>0.0</td>\n",
       "      <td>Allison, Mr. Hudson Joshua Creighton</td>\n",
       "      <td>male</td>\n",
       "      <td>30.0000</td>\n",
       "      <td>1.0</td>\n",
       "      <td>2.0</td>\n",
       "      <td>113781</td>\n",
       "      <td>151.5500</td>\n",
       "      <td>C22 C26</td>\n",
       "      <td>S</td>\n",
       "      <td>NaN</td>\n",
       "      <td>NaN</td>\n",
       "      <td>NaN</td>\n",
       "    </tr>\n",
       "    <tr>\n",
       "      <th>4</th>\n",
       "      <td>1.0</td>\n",
       "      <td>0.0</td>\n",
       "      <td>Allison, Mrs. Hudson J C (Bessie Waldo Daniels)</td>\n",
       "      <td>female</td>\n",
       "      <td>25.0000</td>\n",
       "      <td>1.0</td>\n",
       "      <td>2.0</td>\n",
       "      <td>113781</td>\n",
       "      <td>151.5500</td>\n",
       "      <td>C22 C26</td>\n",
       "      <td>S</td>\n",
       "      <td>NaN</td>\n",
       "      <td>NaN</td>\n",
       "      <td>NaN</td>\n",
       "    </tr>\n",
       "  </tbody>\n",
       "</table>\n",
       "</div>"
      ],
      "text/plain": [
       "   pclass  survived                                             name  gender  \\\n",
       "0     1.0       1.0                    Allen, Miss. Elisabeth Walton  female   \n",
       "1     1.0       1.0                   Allison, Master. Hudson Trevor    male   \n",
       "2     1.0       0.0                     Allison, Miss. Helen Loraine  female   \n",
       "3     1.0       0.0             Allison, Mr. Hudson Joshua Creighton    male   \n",
       "4     1.0       0.0  Allison, Mrs. Hudson J C (Bessie Waldo Daniels)  female   \n",
       "\n",
       "       age  siblings/spouse abroad  parents/children abroad  ticket      fare  \\\n",
       "0  29.0000                     0.0                      0.0   24160  211.3375   \n",
       "1   0.9167                     1.0                      2.0  113781  151.5500   \n",
       "2   2.0000                     1.0                      2.0  113781  151.5500   \n",
       "3  30.0000                     1.0                      2.0  113781  151.5500   \n",
       "4  25.0000                     1.0                      2.0  113781  151.5500   \n",
       "\n",
       "     cabin embarked  Unnamed: 11  Unnamed: 12  Unnamed: 13  \n",
       "0       B5        S          NaN          NaN          NaN  \n",
       "1  C22 C26        S          NaN          NaN          NaN  \n",
       "2  C22 C26        S          NaN          NaN          NaN  \n",
       "3  C22 C26        S          NaN          NaN          NaN  \n",
       "4  C22 C26        S          NaN          NaN          NaN  "
      ]
     },
     "execution_count": 1,
     "metadata": {},
     "output_type": "execute_result"
    }
   ],
   "source": [
    "import pandas as pd\n",
    "data = pd.read_csv(r\"D:\\meena\\titanic.csv\")\n",
    "df = pd.DataFrame(data)\n",
    "df.head()"
   ]
  },
  {
   "cell_type": "markdown",
   "id": "fefefada",
   "metadata": {},
   "source": [
    "Clean the dataset"
   ]
  },
  {
   "cell_type": "code",
   "execution_count": 2,
   "id": "f79e6208",
   "metadata": {},
   "outputs": [
    {
     "name": "stdout",
     "output_type": "stream",
     "text": [
      "<class 'pandas.core.frame.DataFrame'>\n",
      "RangeIndex: 1310 entries, 0 to 1309\n",
      "Data columns (total 14 columns):\n",
      " #   Column                   Non-Null Count  Dtype  \n",
      "---  ------                   --------------  -----  \n",
      " 0   pclass                   1309 non-null   float64\n",
      " 1   survived                 1309 non-null   float64\n",
      " 2   name                     1309 non-null   object \n",
      " 3   gender                   1309 non-null   object \n",
      " 4   age                      1046 non-null   float64\n",
      " 5   siblings/spouse abroad   1309 non-null   float64\n",
      " 6   parents/children abroad  1309 non-null   float64\n",
      " 7   ticket                   1309 non-null   object \n",
      " 8   fare                     1308 non-null   float64\n",
      " 9   cabin                    295 non-null    object \n",
      " 10  embarked                 1307 non-null   object \n",
      " 11  Unnamed: 11              0 non-null      float64\n",
      " 12  Unnamed: 12              0 non-null      float64\n",
      " 13  Unnamed: 13              0 non-null      float64\n",
      "dtypes: float64(9), object(5)\n",
      "memory usage: 143.4+ KB\n"
     ]
    }
   ],
   "source": [
    "df.info()"
   ]
  },
  {
   "cell_type": "code",
   "execution_count": 3,
   "id": "c26c6619",
   "metadata": {},
   "outputs": [
    {
     "data": {
      "text/plain": [
       "pclass                        1\n",
       "survived                      1\n",
       "name                          1\n",
       "gender                        1\n",
       "age                         264\n",
       "siblings/spouse abroad        1\n",
       "parents/children abroad       1\n",
       "ticket                        1\n",
       "fare                          2\n",
       "cabin                      1015\n",
       "embarked                      3\n",
       "Unnamed: 11                1310\n",
       "Unnamed: 12                1310\n",
       "Unnamed: 13                1310\n",
       "dtype: int64"
      ]
     },
     "execution_count": 3,
     "metadata": {},
     "output_type": "execute_result"
    }
   ],
   "source": [
    "df.isnull().sum()"
   ]
  },
  {
   "cell_type": "code",
   "execution_count": 4,
   "id": "8067510a",
   "metadata": {},
   "outputs": [
    {
     "name": "stdout",
     "output_type": "stream",
     "text": [
      "<class 'pandas.core.frame.DataFrame'>\n",
      "RangeIndex: 1310 entries, 0 to 1309\n",
      "Data columns (total 11 columns):\n",
      " #   Column                   Non-Null Count  Dtype  \n",
      "---  ------                   --------------  -----  \n",
      " 0   pclass                   1309 non-null   float64\n",
      " 1   survived                 1309 non-null   float64\n",
      " 2   name                     1309 non-null   object \n",
      " 3   gender                   1309 non-null   object \n",
      " 4   age                      1046 non-null   float64\n",
      " 5   siblings/spouse abroad   1309 non-null   float64\n",
      " 6   parents/children abroad  1309 non-null   float64\n",
      " 7   ticket                   1309 non-null   object \n",
      " 8   fare                     1308 non-null   float64\n",
      " 9   cabin                    295 non-null    object \n",
      " 10  embarked                 1307 non-null   object \n",
      "dtypes: float64(6), object(5)\n",
      "memory usage: 112.7+ KB\n"
     ]
    }
   ],
   "source": [
    "df = df.drop(columns=['Unnamed: 11', 'Unnamed: 12', 'Unnamed: 13'])\n",
    "df.info()\n"
   ]
  },
  {
   "cell_type": "code",
   "execution_count": 6,
   "id": "0ae3e6ef",
   "metadata": {},
   "outputs": [
    {
     "data": {
      "text/plain": [
       "0"
      ]
     },
     "execution_count": 6,
     "metadata": {},
     "output_type": "execute_result"
    }
   ],
   "source": [
    "df['age'].fillna(df['age'].median())\n",
    "df['age'].isnull().sum()\n"
   ]
  },
  {
   "cell_type": "code",
   "execution_count": 9,
   "id": "44d3aa89",
   "metadata": {},
   "outputs": [
    {
     "name": "stderr",
     "output_type": "stream",
     "text": [
      "C:\\Users\\Dell\\AppData\\Local\\Temp\\ipykernel_3532\\91202630.py:1: FutureWarning: A value is trying to be set on a copy of a DataFrame or Series through chained assignment using an inplace method.\n",
      "The behavior will change in pandas 3.0. This inplace method will never work because the intermediate object on which we are setting values always behaves as a copy.\n",
      "\n",
      "For example, when doing 'df[col].method(value, inplace=True)', try using 'df.method({col: value}, inplace=True)' or df[col] = df[col].method(value) instead, to perform the operation inplace on the original object.\n",
      "\n",
      "\n",
      "  df['fare'].fillna(df['fare'].median(), inplace=True)\n"
     ]
    },
    {
     "data": {
      "text/plain": [
       "0"
      ]
     },
     "execution_count": 9,
     "metadata": {},
     "output_type": "execute_result"
    }
   ],
   "source": [
    "df['fare'].fillna(df['fare'].median(), inplace=True)\n",
    "df['fare'].isnull().sum()\n"
   ]
  },
  {
   "cell_type": "code",
   "execution_count": 11,
   "id": "773602c0",
   "metadata": {},
   "outputs": [
    {
     "data": {
      "text/plain": [
       "0"
      ]
     },
     "execution_count": 11,
     "metadata": {},
     "output_type": "execute_result"
    }
   ],
   "source": [
    "df['embarked'].fillna(df['embarked'].mode()[0])\n",
    "df['embarked'].isnull().sum()\n"
   ]
  },
  {
   "cell_type": "code",
   "execution_count": 12,
   "id": "29a4a492",
   "metadata": {},
   "outputs": [
    {
     "data": {
      "text/plain": [
       "pclass                     1\n",
       "survived                   1\n",
       "name                       1\n",
       "gender                     1\n",
       "age                        0\n",
       "siblings/spouse abroad     1\n",
       "parents/children abroad    1\n",
       "ticket                     1\n",
       "fare                       0\n",
       "embarked                   0\n",
       "dtype: int64"
      ]
     },
     "execution_count": 12,
     "metadata": {},
     "output_type": "execute_result"
    }
   ],
   "source": [
    "df = df.drop(columns=['cabin'])\n",
    "df.isnull().sum()"
   ]
  },
  {
   "cell_type": "code",
   "execution_count": 13,
   "id": "66cf162c",
   "metadata": {},
   "outputs": [
    {
     "data": {
      "text/plain": [
       "pclass                     0\n",
       "survived                   0\n",
       "name                       0\n",
       "gender                     0\n",
       "age                        0\n",
       "siblings/spouse abroad     0\n",
       "parents/children abroad    0\n",
       "ticket                     0\n",
       "fare                       0\n",
       "embarked                   0\n",
       "dtype: int64"
      ]
     },
     "execution_count": 13,
     "metadata": {},
     "output_type": "execute_result"
    }
   ],
   "source": [
    "df.dropna(inplace=True)\n",
    "df.isnull().sum()\n"
   ]
  },
  {
   "cell_type": "markdown",
   "id": "8267b4bf",
   "metadata": {},
   "source": [
    "Analysis Questions"
   ]
  },
  {
   "cell_type": "code",
   "execution_count": 17,
   "id": "b0517d11",
   "metadata": {},
   "outputs": [
    {
     "data": {
      "text/plain": [
       "gender\n",
       "female    0.727468\n",
       "male      0.190985\n",
       "Name: survived, dtype: float64"
      ]
     },
     "execution_count": 17,
     "metadata": {},
     "output_type": "execute_result"
    }
   ],
   "source": [
    "#who survived more\n",
    "df.groupby('gender')['survived'].mean()"
   ]
  },
  {
   "cell_type": "markdown",
   "id": "17e27781",
   "metadata": {},
   "source": [
    "women survived more than men"
   ]
  },
  {
   "cell_type": "code",
   "execution_count": 20,
   "id": "a0844b67",
   "metadata": {},
   "outputs": [
    {
     "data": {
      "text/plain": [
       "pclass\n",
       "1.0    0.619195\n",
       "2.0    0.429603\n",
       "3.0    0.255289\n",
       "Name: survived, dtype: float64"
      ]
     },
     "execution_count": 20,
     "metadata": {},
     "output_type": "execute_result"
    }
   ],
   "source": [
    "#did passenger class affect survival chances\n",
    "df.groupby('pclass')['survived'].mean()\n"
   ]
  },
  {
   "cell_type": "markdown",
   "id": "db5c72eb",
   "metadata": {},
   "source": [
    "passenger class affected"
   ]
  },
  {
   "cell_type": "markdown",
   "id": "b7bb67b8",
   "metadata": {},
   "source": [
    "Survival rate by age group"
   ]
  },
  {
   "cell_type": "code",
   "execution_count": 22,
   "id": "09d553cf",
   "metadata": {},
   "outputs": [
    {
     "name": "stderr",
     "output_type": "stream",
     "text": [
      "C:\\Users\\Dell\\AppData\\Local\\Temp\\ipykernel_3532\\1800539223.py:5: FutureWarning: The default of observed=False is deprecated and will be changed to True in a future version of pandas. Pass observed=False to retain current behavior or observed=True to adopt the future default and silence this warning.\n",
      "  df.groupby('AgeGroup')['survived'].mean()\n"
     ]
    },
    {
     "data": {
      "text/plain": [
       "AgeGroup\n",
       "Child          0.574468\n",
       "Teen           0.414141\n",
       "Adult          0.350126\n",
       "Middle-aged    0.411765\n",
       "Senior         0.242424\n",
       "Name: survived, dtype: float64"
      ]
     },
     "execution_count": 22,
     "metadata": {},
     "output_type": "execute_result"
    }
   ],
   "source": [
    "bins = [0, 12, 18, 35, 60, 100]\n",
    "labels = ['Child','Teen','Adult','Middle-aged','Senior']\n",
    "df['AgeGroup'] = pd.cut(df['age'], bins=bins, labels=labels)\n",
    "\n",
    "df.groupby('AgeGroup')['survived'].mean()\n"
   ]
  },
  {
   "cell_type": "markdown",
   "id": "78ab313b",
   "metadata": {},
   "source": [
    "Visualization"
   ]
  },
  {
   "cell_type": "code",
   "execution_count": 14,
   "id": "3b74cd23",
   "metadata": {},
   "outputs": [
    {
     "data": {
      "text/plain": [
       "Index(['pclass', 'survived', 'name', 'gender', 'age', 'siblings/spouse abroad',\n",
       "       'parents/children abroad', 'ticket', 'fare', 'embarked'],\n",
       "      dtype='object')"
      ]
     },
     "execution_count": 14,
     "metadata": {},
     "output_type": "execute_result"
    }
   ],
   "source": [
    "df.columns"
   ]
  },
  {
   "cell_type": "code",
   "execution_count": 25,
   "id": "71f8276c",
   "metadata": {},
   "outputs": [
    {
     "data": {
      "image/png": "[encoded data removed]",
      "text/plain": [
       "<Figure size 600x400 with 1 Axes>"
      ]
     },
     "metadata": {},
     "output_type": "display_data"
    }
   ],
   "source": [
    "import matplotlib.pyplot as plt\n",
    "import seaborn as sns\n",
    "plt.figure(figsize=(6,4))\n",
    "sns.countplot(data=df, x='gender', hue='survived', palette='pastel')\n",
    "plt.title('Survival Count by Gender')\n",
    "plt.xlabel('Gender')\n",
    "plt.ylabel('Count')\n",
    "plt.show()"
   ]
  },
  {
   "cell_type": "code",
   "execution_count": 24,
   "id": "f3ea2d5e",
   "metadata": {},
   "outputs": [
    {
     "data": {
      "image/png": "[encoded data removed]",
      "text/plain": [
       "<Figure size 600x400 with 1 Axes>"
      ]
     },
     "metadata": {},
     "output_type": "display_data"
    }
   ],
   "source": [
    "plt.figure(figsize=(6,4))\n",
    "sns.countplot(data=df, x='pclass', hue='survived', palette='pastel')\n",
    "plt.title('Survival Count by Passenger Class')\n",
    "plt.xlabel('Passenger Class')\n",
    "plt.ylabel('Count')\n",
    "plt.show()"
   ]
  },
  {
   "cell_type": "code",
   "execution_count": 27,
   "id": "3639fadd",
   "metadata": {},
   "outputs": [
    {
     "data": {
      "image/png": "[encoded data removed]",
      "text/plain": [
       "<Figure size 600x400 with 1 Axes>"
      ]
     },
     "metadata": {},
     "output_type": "display_data"
    }
   ],
   "source": [
    "plt.figure(figsize=(6,4))\n",
    "plt.hist(df['age'], bins=20, color='pink', edgecolor='black')\n",
    "plt.title('Passenger Age Distribution')\n",
    "plt.xlabel('Age')\n",
    "plt.ylabel('Count')\n",
    "plt.show()"
   ]
  }
 ],
 "metadata": {
  "kernelspec": {
   "display_name": "Python 3",
   "language": "python",
   "name": "python3"
  },
  "language_info": {
   "codemirror_mode": {
    "name": "ipython",
    "version": 3
   },
   "file_extension": ".py",
   "mimetype": "text/x-python",
   "name": "python",
   "nbconvert_exporter": "python",
   "pygments_lexer": "ipython3",
   "version": "3.10.11"
  }
 },
 "nbformat": 4,
 "nbformat_minor": 5
}
